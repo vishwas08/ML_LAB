{
 "cells": [
  {
   "cell_type": "code",
   "execution_count": 1,
   "id": "30de75a8",
   "metadata": {},
   "outputs": [],
   "source": [
    "import numpy as np\n",
    "X = np.array(([2, 9], [1, 5], [3, 6]), dtype=float) # two inputs [sleep, study]\n",
    "y = np.array(([92], [86], [89]), dtype=float) # one output [Expected & in Exams] X = X/np.amax (X, axis=0) # maximum of X array longitudinally\n",
    "y = y/100"
   ]
  },
  {
   "cell_type": "code",
   "execution_count": 2,
   "id": "3bd73b25",
   "metadata": {},
   "outputs": [],
   "source": [
    "#Variable initialization\n",
    "epoch=5000\n",
    "#Setting training iterations\n",
    "lr=0.1\n",
    "inputlayer_neurons = 2\n",
    "hiddenlayer_neurons = 3\n",
    "output_neurons = 1"
   ]
  },
  {
   "cell_type": "code",
   "execution_count": 5,
   "id": "5b05023a",
   "metadata": {},
   "outputs": [],
   "source": [
    "#weight and bias initialization\n",
    "wh=np.random.uniform(size=(inputlayer_neurons, hiddenlayer_neurons)) #weight of the link from \n",
    "bh=np.random.uniform(size=(1,hiddenlayer_neurons)) # bias of the link from input node to hidd\n",
    "wout=np.random.uniform(size=(hiddenlayer_neurons, output_neurons)) #weight of the link from hi\n",
    "bout=np.random.uniform(size=(1,output_neurons)) #bias of the link from hidden node to output"
   ]
  },
  {
   "cell_type": "code",
   "execution_count": 6,
   "id": "e831b99e",
   "metadata": {},
   "outputs": [],
   "source": [
    "#Sigmoid Function\n",
    "def sigmoid (x): return 1/(1 + np.exp(-x))\n",
    "#Derivative of Sigmoid Function\n",
    "def derivatives_sigmoid(x):return x * (1 - x)"
   ]
  },
  {
   "cell_type": "code",
   "execution_count": 7,
   "id": "5cc6bf1e",
   "metadata": {},
   "outputs": [],
   "source": [
    "#draws a random range of numbers uniformly of dim x*y\n",
    "for i in range (epoch):\n",
    "#Forward Propogation\n",
    "    hinp1=np.dot (X,wh)\n",
    "    hinp=hinp1 + bh\n",
    "    hlayer_act=sigmoid (hinp)\n",
    "    outinp1=np.dot (hlayer_act, wout)\n",
    "    outinp=outinp1+ bout\n",
    "    output=sigmoid (outinp)\n",
    "#Backpropagation\n",
    "    EO=y-output\n",
    "    outgrad=derivatives_sigmoid(output)\n",
    "    d_output = EO* outgrad\n",
    "    EH = d_output.dot(wout.T)"
   ]
  },
  {
   "cell_type": "code",
   "execution_count": 10,
   "id": "6abb2790",
   "metadata": {},
   "outputs": [
    {
     "name": "stdout",
     "output_type": "stream",
     "text": [
      "Input: \n",
      "[[2. 9.]\n",
      " [1. 5.]\n",
      " [3. 6.]]\n",
      "Actual Output: \n",
      "[[0.92]\n",
      " [0.86]\n",
      " [0.89]]\n",
      "Predicted Output: \n",
      " [[0.88795537]\n",
      " [0.88680316]\n",
      " [0.88781013]]\n"
     ]
    }
   ],
   "source": [
    "#how much hidden layer weights contributed to error\n",
    "hiddengrad=derivatives_sigmoid (hlayer_act)\n",
    "d_hiddenlayer=EH*hiddengrad\n",
    "#dotproduct of nextlayererror and currentlayerop\n",
    "wout +=hlayer_act.T.dot(d_output) *lr\n",
    "wh +=X.T.dot(d_hiddenlayer) *lr\n",
    "print(\"Input: \\n\" + str(X))\n",
    "print(\"Actual Output: \\n\" + str(y))\n",
    "print(\"Predicted Output: \\n\",output)"
   ]
  },
  {
   "cell_type": "code",
   "execution_count": null,
   "id": "31ef1433",
   "metadata": {},
   "outputs": [],
   "source": []
  }
 ],
 "metadata": {
  "kernelspec": {
   "display_name": "Python 3 (ipykernel)",
   "language": "python",
   "name": "python3"
  },
  "language_info": {
   "codemirror_mode": {
    "name": "ipython",
    "version": 3
   },
   "file_extension": ".py",
   "mimetype": "text/x-python",
   "name": "python",
   "nbconvert_exporter": "python",
   "pygments_lexer": "ipython3",
   "version": "3.9.13"
  }
 },
 "nbformat": 4,
 "nbformat_minor": 5
}
